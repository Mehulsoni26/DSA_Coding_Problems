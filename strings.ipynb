{
 "cells": [
  {
   "cell_type": "markdown",
   "metadata": {},
   "source": [
    "**Algoexpert (Easy) - Palindrome Check**"
   ]
  },
  {
   "cell_type": "markdown",
   "metadata": {},
   "source": [
    "Input: non-empty string,\n",
    "Output: returns a boolean\n",
    "\n",
    "Single characters : Palindromes"
   ]
  },
  {
   "cell_type": "code",
   "execution_count": 1,
   "metadata": {},
   "outputs": [],
   "source": [
    "string = \"abcdcba\""
   ]
  },
  {
   "cell_type": "code",
   "execution_count": 2,
   "metadata": {},
   "outputs": [],
   "source": [
    "def isPalindrome(string):\n",
    "    # Write your code here.\n",
    "    bool = False\n",
    "    if len(string) == 1:\n",
    "        bool = True\n",
    "    elif len(string) == 2:\n",
    "        if string[0] == string[1]:\n",
    "            bool = True\n",
    "        else:\n",
    "            bool = False\n",
    "    else:\n",
    "        left = 0\n",
    "        right = len(string) - 1\n",
    "        while right >= left:\n",
    "            if string[left] == string[right]:\n",
    "                left+=1\n",
    "                right-=1\n",
    "                bool = True\n",
    "            else:\n",
    "                bool = False\n",
    "                break\n",
    "    return bool\n"
   ]
  },
  {
   "cell_type": "code",
   "execution_count": 4,
   "metadata": {},
   "outputs": [
    {
     "data": {
      "text/plain": [
       "True"
      ]
     },
     "execution_count": 4,
     "metadata": {},
     "output_type": "execute_result"
    }
   ],
   "source": [
    "isPalindrome(string)"
   ]
  },
  {
   "cell_type": "code",
   "execution_count": 11,
   "metadata": {},
   "outputs": [
    {
     "data": {
      "text/plain": [
       "False"
      ]
     },
     "execution_count": 11,
     "metadata": {},
     "output_type": "execute_result"
    }
   ],
   "source": [
    "isPalindrome(\"abb\")"
   ]
  },
  {
   "cell_type": "markdown",
   "metadata": {},
   "source": [
    "**Algoexpert (Easy) - Caeser Cipher Encryptor**"
   ]
  },
  {
   "cell_type": "markdown",
   "metadata": {},
   "source": [
    "input: non-empty string of lowercase letters and a non-negative integer representing a key\n",
    "\n",
    "output: a new string obtained by shifting every letter in the input string by k positions in the alphabet (k is the key)\n",
    "\n",
    "--> z shifted by 1 would give a"
   ]
  },
  {
   "cell_type": "code",
   "execution_count": 74,
   "metadata": {},
   "outputs": [],
   "source": [
    "string = \"abc\" \n",
    "key = 57"
   ]
  },
  {
   "cell_type": "code",
   "execution_count": 76,
   "metadata": {},
   "outputs": [],
   "source": [
    "def caesarCipherEncryptor(string, key):\n",
    "    # Write your code here.\n",
    "    # alpha_dict = {v:k for k,v in enumerate(ascii_lowercase)}\n",
    "    alpha = 'a'\n",
    "    alpha_dict = {}\n",
    "    for i in range(0, 26):\n",
    "        # test_list.append(alpha)\n",
    "        alpha_dict[alpha] = i\n",
    "        alpha = chr(ord(alpha) + 1)\n",
    "    key_list = list(alpha_dict.keys())\n",
    "    val_list = list(alpha_dict.values())\n",
    "    upper = 25\n",
    "    new_string =\"\"\n",
    "    for c in string:\n",
    "        curr_key = alpha_dict.get(c)\n",
    "        new_key =  (curr_key +  key)%26\n",
    "        new_c = key_list[val_list.index(new_key)]\n",
    "        new_string+= new_c\n",
    "    return new_string\n",
    "    # pass"
   ]
  },
  {
   "cell_type": "code",
   "execution_count": 77,
   "metadata": {},
   "outputs": [
    {
     "data": {
      "text/plain": [
       "'fgh'"
      ]
     },
     "execution_count": 77,
     "metadata": {},
     "output_type": "execute_result"
    }
   ],
   "source": [
    "caesarCipherEncryptor(string,key)"
   ]
  },
  {
   "cell_type": "markdown",
   "metadata": {},
   "source": [
    "**Algoexpert (String) Run-length Encoding**"
   ]
  },
  {
   "cell_type": "markdown",
   "metadata": {},
   "source": [
    "input: non-empty string\n",
    "\n",
    "output: run-length encoding"
   ]
  },
  {
   "cell_type": "markdown",
   "metadata": {},
   "source": [
    "**Algoexpert (String) Common Characters**"
   ]
  },
  {
   "cell_type": "markdown",
   "metadata": {},
   "source": [
    "input: non-empty list of non-empty strings\n",
    "\n",
    "output: list of characters common to all strings in the list, ignoring multiplicity\n",
    "\n",
    "Strings not guaranteed to contain only alpha numeric characters"
   ]
  },
  {
   "cell_type": "code",
   "execution_count": 80,
   "metadata": {},
   "outputs": [],
   "source": [
    "strings = ['abc', 'bcd','cbaccd']\n",
    "output = ['b','c']"
   ]
  },
  {
   "cell_type": "code",
   "execution_count": 107,
   "metadata": {},
   "outputs": [],
   "source": [
    "def commonCharacters1(strings):\n",
    "    # Write your code here.\n",
    "    common_chars = list(set.intersection(*map(set,strings))) ##works because non-empty is already given otherwise set.intersection would give a typeerror\n",
    "    return common_chars"
   ]
  },
  {
   "cell_type": "code",
   "execution_count": 118,
   "metadata": {},
   "outputs": [],
   "source": [
    "# def commonCharacters2(strings):\n",
    "#     # Write your code here.\n",
    "#     common_set = set(min(strings, key=len))\n",
    "#     for s in strings:\n",
    "#         common_set = common_set.intersection(set(s))\n",
    "#     return list(common_set)"
   ]
  },
  {
   "cell_type": "code",
   "execution_count": 119,
   "metadata": {},
   "outputs": [
    {
     "data": {
      "text/plain": [
       "['b', 'c']"
      ]
     },
     "execution_count": 119,
     "metadata": {},
     "output_type": "execute_result"
    }
   ],
   "source": [
    "commonCharacters2(strings)"
   ]
  },
  {
   "cell_type": "markdown",
   "metadata": {},
   "source": [
    "**Algoexpert (Strings) - Generate Document**"
   ]
  },
  {
   "cell_type": "code",
   "execution_count": 109,
   "metadata": {},
   "outputs": [],
   "source": [
    "characters = \"Bste!hetsi ogEAxpelrt x \"\n",
    "document = \"Algoexpert is the Best!\"\n",
    "output = True"
   ]
  },
  {
   "cell_type": "code",
   "execution_count": null,
   "metadata": {},
   "outputs": [],
   "source": [
    "def generateDocument(characters, document):\n",
    "    # Write your code here.\n",
    "    #code: Mehul\n",
    "    if document == \"\":\n",
    "        return True\n",
    "    else:\n",
    "        bool = False\n",
    "        chars_map = {}\n",
    "        document_map = {}\n",
    "        for char in characters:\n",
    "            chars_map[char] = chars_map.get(char, 0) + 1\n",
    "        for char in document:\n",
    "            document_map[char] = document_map.get(char, 0) + 1\n",
    "        for k, v in document_map.items():\n",
    "            if chars_map.get(k,0) < document_map.get(k,0):\n",
    "                bool = False\n",
    "                break\n",
    "            else:\n",
    "                bool = True\n",
    "    return bool"
   ]
  },
  {
   "cell_type": "code",
   "execution_count": null,
   "metadata": {},
   "outputs": [],
   "source": []
  }
 ],
 "metadata": {
  "kernelspec": {
   "display_name": "Python 3",
   "language": "python",
   "name": "python3"
  },
  "language_info": {
   "codemirror_mode": {
    "name": "ipython",
    "version": 3
   },
   "file_extension": ".py",
   "mimetype": "text/x-python",
   "name": "python",
   "nbconvert_exporter": "python",
   "pygments_lexer": "ipython3",
   "version": "3.10.6"
  },
  "orig_nbformat": 4
 },
 "nbformat": 4,
 "nbformat_minor": 2
}
