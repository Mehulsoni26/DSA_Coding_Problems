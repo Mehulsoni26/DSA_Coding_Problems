{
 "cells": [
  {
   "cell_type": "markdown",
   "metadata": {},
   "source": [
    "### Searching"
   ]
  },
  {
   "cell_type": "markdown",
   "metadata": {},
   "source": [
    "### Sorting"
   ]
  },
  {
   "cell_type": "markdown",
   "metadata": {},
   "source": [
    "1. Bubble Sort"
   ]
  },
  {
   "cell_type": "code",
   "execution_count": 4,
   "metadata": {},
   "outputs": [
    {
     "name": "stdout",
     "output_type": "stream",
     "text": [
      "Sorted array is:\n",
      "1\n",
      "2\n",
      "10\n",
      "23\n"
     ]
    }
   ],
   "source": [
    "# Python3 program for Bubble Sort Algorithm Implementation\n",
    "def bubbleSort(arr):\n",
    "     \n",
    "    n = len(arr)\n",
    " \n",
    "    # For loop to traverse through all\n",
    "    # element in an array\n",
    "    for i in range(n):\n",
    "        for j in range(0, n - i - 1):\n",
    "             \n",
    "            # Range of the array is from 0 to n-i-1\n",
    "            # Swap the elements if the element found\n",
    "            #is greater than the adjacent element\n",
    "            if arr[j] > arr[j + 1]:\n",
    "                arr[j], arr[j + 1] = arr[j + 1], arr[j]\n",
    "                 \n",
    "# Driver code\n",
    " \n",
    "# Example to test the above code\n",
    "arr = [ 2, 1, 10, 23 ]\n",
    " \n",
    "bubbleSort(arr)\n",
    " \n",
    "print(\"Sorted array is:\")\n",
    "for i in range(len(arr)):\n",
    "    print(\"%d\" % arr[i])"
   ]
  },
  {
   "cell_type": "code",
   "execution_count": 3,
   "metadata": {},
   "outputs": [
    {
     "name": "stdout",
     "output_type": "stream",
     "text": [
      "i:0\n",
      "j:0\n",
      "j:1\n",
      "j:2\n",
      "i:1\n",
      "j:0\n",
      "j:1\n",
      "i:2\n",
      "j:0\n",
      "i:3\n"
     ]
    }
   ],
   "source": [
    "x = [2, 23, 10, 1]\n",
    "for i in range(len(x)):\n",
    "    print(f\"i:{i}\")\n",
    "    for j in range(0, len(x) - i - 1):\n",
    "        print(f\"j:{j}\")"
   ]
  },
  {
   "cell_type": "markdown",
   "metadata": {},
   "source": [
    "2. Selection Sort"
   ]
  },
  {
   "cell_type": "code",
   "execution_count": null,
   "metadata": {},
   "outputs": [],
   "source": [
    "# Selection Sort algorithm in Python\n",
    "def selectionSort(array, size):\n",
    "     \n",
    "    for s in range(size):\n",
    "        min_idx = s\n",
    "         \n",
    "        for i in range(s + 1, size):\n",
    "             \n",
    "            # For sorting in descending order\n",
    "            # for minimum element in each loop\n",
    "            if array[i] < array[min_idx]:\n",
    "                min_idx = i\n",
    " \n",
    "        # Arranging min at the correct position\n",
    "        (array[s], array[min_idx]) = (array[min_idx], array[s])\n",
    "#Driver code\n",
    "data = [ 7, 2, 1, 6 ]\n",
    "size = len(data)\n",
    "selectionSort(data, size)\n",
    " \n",
    "print('Sorted Array in Ascending Order is :')\n",
    "print(data)"
   ]
  },
  {
   "cell_type": "markdown",
   "metadata": {},
   "source": [
    "3. Insertion Sort"
   ]
  },
  {
   "cell_type": "code",
   "execution_count": null,
   "metadata": {},
   "outputs": [],
   "source": [
    "\n",
    "# Creating a function for insertion sort algorithm\n",
    "def insertion_sort(list1): \n",
    "   \n",
    "        # Outer loop to traverse on len(list1) \n",
    "        for i in range(1, len(list1)): \n",
    "   \n",
    "            a = list1[i] \n",
    "   \n",
    "            # Move elements of list1[0 to i-1],\n",
    "            # which are greater to one position\n",
    "            # ahead of their current position \n",
    "            j = i - 1 \n",
    "           \n",
    "            while j >= 0 and a < list1[j]: \n",
    "                list1[j + 1] = list1[j] \n",
    "                j -= 1 \n",
    "                 \n",
    "            list1[j + 1] = a \n",
    "             \n",
    "        return list1 \n",
    "            \n",
    "# Driver code\n",
    "list1 = [ 7, 2, 1, 6 ] \n",
    "print(\"The unsorted list is:\", list1) \n",
    "print(\"The sorted new list is:\", insertion_sort(list1))"
   ]
  },
  {
   "cell_type": "markdown",
   "metadata": {},
   "source": [
    "#### GRAPHS"
   ]
  },
  {
   "cell_type": "code",
   "execution_count": 1,
   "metadata": {},
   "outputs": [],
   "source": [
    "#Adjacency Matrix Implementation\n",
    "if __name__ == '__main__':\n",
    "    #  n is the number of vertices\n",
    "    #  m is the number of edges\n",
    "    n, m = map(int, input().split())\n",
    "    adjMat = [[0 for i in range(n)]for j in range(n)]\n",
    "    for i in range(n):\n",
    "        u, v = map(int, input().split())\n",
    "        adjMat[u][v] = 1\n",
    "        adjMat[v][u] = 1\n",
    "        # for a directed graph with an edge pointing from u to v,we just assign\n",
    "        # adjMat[u][v] as 1"
   ]
  },
  {
   "cell_type": "code",
   "execution_count": null,
   "metadata": {},
   "outputs": [],
   "source": [
    "# A class to represent the adjacency list of the node\n",
    "class AdjNode:\n",
    "    def __init__(self, data):\n",
    "        self.vertex = data\n",
    "        self.next = None\n",
    " \n",
    " \n",
    "# A class to represent a graph. A graph\n",
    "# is the list of the adjacency lists.\n",
    "# Size of the array will be the no. of the\n",
    "# vertices \"V\"\n",
    "class Graph:\n",
    "    def __init__(self, vertices):\n",
    "        self.V = vertices\n",
    "        self.graph = [None] * self.V\n",
    " \n",
    "    # Function to add an edge in an undirected graph\n",
    "    def add_edge(self, src, dest):\n",
    "        # Adding the node to the source node\n",
    "        node = AdjNode(dest)\n",
    "        node.next = self.graph[src]\n",
    "        self.graph[src] = node\n",
    " \n",
    "        # Adding the source node to the destination as\n",
    "        # it is the undirected graph\n",
    "        node = AdjNode(src)\n",
    "        node.next = self.graph[dest]\n",
    "        self.graph[dest] = node\n",
    " \n",
    "    # Function to print the graph\n",
    "    def print_graph(self):\n",
    "        for i in range(self.V):\n",
    "            print(\"Adjacency list of vertex {}\\n head\".format(i), end=\"\")\n",
    "            temp = self.graph[i]\n",
    "            while temp:\n",
    "                print(\" -> {}\".format(temp.vertex), end=\"\")\n",
    "                temp = temp.next\n",
    "            print(\" \\n\")\n",
    " \n",
    " \n",
    "# Driver program to the above graph class\n",
    "if __name__ == \"__main__\":\n",
    "    V = 5\n",
    "    graph = Graph(V)\n",
    "    graph.add_edge(0, 1)\n",
    "    graph.add_edge(0, 4)\n",
    "    graph.add_edge(1, 2)\n",
    "    graph.add_edge(1, 3)\n",
    "    graph.add_edge(1, 4)\n",
    "    graph.add_edge(2, 3)\n",
    "    graph.add_edge(3, 4)\n",
    " \n",
    "    graph.print_graph()"
   ]
  },
  {
   "cell_type": "markdown",
   "metadata": {},
   "source": [
    "#### Graph Algorithms"
   ]
  },
  {
   "cell_type": "markdown",
   "metadata": {},
   "source": [
    "1. DFS (Depth First Search)\n",
    "- can be done both recursively (using Hash Set - helps in case of cycles) and non-recursively (using Stack)"
   ]
  },
  {
   "cell_type": "code",
   "execution_count": null,
   "metadata": {},
   "outputs": [],
   "source": [
    "#DFS\n",
    "# Python3 program to print DFS traversal\n",
    "# from a given graph\n",
    "from collections import defaultdict\n",
    "\n",
    "# This class represents a directed graph using\n",
    "# adjacency list representation\n",
    "\n",
    "\n",
    "class Graph:\n",
    "\n",
    "\t# Constructor\n",
    "\tdef __init__(self):\n",
    "\n",
    "\t\t# default dictionary to store graph\n",
    "\t\tself.graph = defaultdict(list)\n",
    "\n",
    "\t# function to add an edge to graph\n",
    "\tdef addEdge(self, u, v):\n",
    "\t\tself.graph[u].append(v)\n",
    "\n",
    "\t# A function used by DFS\n",
    "\tdef DFSUtil(self, v, visited):\n",
    "\n",
    "\t\t# Mark the current node as visited\n",
    "\t\t# and print it\n",
    "\t\tvisited.add(v)\n",
    "\t\tprint(v, end=' ')\n",
    "\n",
    "\t\t# Recur for all the vertices\n",
    "\t\t# adjacent to this vertex\n",
    "\t\tfor neighbour in self.graph[v]:\n",
    "\t\t\tif neighbour not in visited:\n",
    "\t\t\t\tself.DFSUtil(neighbour, visited)\n",
    "\n",
    "\t# The function to do DFS traversal. It uses\n",
    "\t# recursive DFSUtil()\n",
    "\tdef DFS(self, v):\n",
    "\n",
    "\t\t# Create a set to store visited vertices\n",
    "\t\tvisited = set()\n",
    "\n",
    "\t\t# Call the recursive helper function\n",
    "\t\t# to print DFS traversal\n",
    "\t\tself.DFSUtil(v, visited)\n",
    "\n",
    "# Driver's code\n",
    "\n",
    "\n",
    "# Create a graph given\n",
    "# in the above diagram\n",
    "if __name__ == \"__main__\":\n",
    "\tg = Graph()\n",
    "\tg.addEdge(0, 1)\n",
    "\tg.addEdge(0, 2)\n",
    "\tg.addEdge(1, 2)\n",
    "\tg.addEdge(2, 0)\n",
    "\tg.addEdge(2, 3)\n",
    "\tg.addEdge(3, 3)\n",
    "\n",
    "\tprint(\"Following is DFS from (starting from vertex 2)\")\n",
    "\t# Function call\n",
    "\tg.DFS(2)\n",
    "\n",
    "# This code is contributed by Neelam Yadav\n"
   ]
  },
  {
   "cell_type": "markdown",
   "metadata": {},
   "source": [
    "2. BFS (Breadth First Search)\n",
    "- Not done recursively, uses - Queue\n",
    "- We could have a cycle here as well, hence we use - Hash Set"
   ]
  },
  {
   "cell_type": "code",
   "execution_count": null,
   "metadata": {},
   "outputs": [],
   "source": []
  }
 ],
 "metadata": {
  "kernelspec": {
   "display_name": "Python 3",
   "language": "python",
   "name": "python3"
  },
  "language_info": {
   "codemirror_mode": {
    "name": "ipython",
    "version": 3
   },
   "file_extension": ".py",
   "mimetype": "text/x-python",
   "name": "python",
   "nbconvert_exporter": "python",
   "pygments_lexer": "ipython3",
   "version": "3.8.5"
  }
 },
 "nbformat": 4,
 "nbformat_minor": 4
}
