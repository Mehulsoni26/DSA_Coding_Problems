{
 "cells": [
  {
   "attachments": {},
   "cell_type": "markdown",
   "metadata": {},
   "source": [
    "1. **Zero Sum Subarray**"
   ]
  },
  {
   "cell_type": "code",
   "execution_count": 1,
   "metadata": {},
   "outputs": [],
   "source": [
    "nums = [-5,-5,2,3,-2]\n",
    "output = True"
   ]
  },
  {
   "cell_type": "code",
   "execution_count": null,
   "metadata": {},
   "outputs": [],
   "source": [
    "def zeroSumSubarray(nums):\n",
    "    # Write your code here.\n",
    "    bool = False\n",
    "    if nums == []:\n",
    "        return False\n",
    "    elif nums == [0]:\n",
    "        return True\n",
    "    else:\n",
    "        left = 0\n",
    "        right = 1\n",
    "        prevsum = nums[0]\n",
    "        newsum = prevsum\n",
    "        for r in range(1, len(nums)):\n",
    "            newsum += prevsum\n",
    "            if abs(newsum) < prevsum:\n"
   ]
  },
  {
   "attachments": {},
   "cell_type": "markdown",
   "metadata": {},
   "source": [
    "**2. Two Numer Sum - Algoexpert**"
   ]
  },
  {
   "cell_type": "code",
   "execution_count": 23,
   "metadata": {},
   "outputs": [],
   "source": [
    "arr1 = [3, 5, -4, 8, 11, 1, -1, 6]\n",
    "targetsum = 10"
   ]
  },
  {
   "cell_type": "code",
   "execution_count": 24,
   "metadata": {},
   "outputs": [],
   "source": [
    "sampleoutput = [-1,11] #the numbers could be in reverse order"
   ]
  },
  {
   "cell_type": "code",
   "execution_count": 64,
   "metadata": {},
   "outputs": [],
   "source": [
    "def twoNumberSum(arr, targetsum):\n",
    "    # Write your code here.\n",
    "    #Code: Mehul\n",
    "    if len(arr) == 1:\n",
    "            return []\n",
    "    elif len(arr) == 2:\n",
    "        if arr[0] + arr[1] == targetsum:\n",
    "            return arr\n",
    "        else:\n",
    "            return []\n",
    "    else:\n",
    "        diff_arr = [(targetsum - i) for i in arr]\n",
    "    \n",
    "        array_map = {arr[i]: arr[i] for i in range(len(arr))}\n",
    "        diff_map = {diff_arr[i]: diff_arr[i] for i in range(len(diff_arr))}\n",
    "        # print(array_map)\n",
    "        # print(diff_map)\n",
    "        count = 0\n",
    "        array_set = set(array_map)\n",
    "        diff_set = set(diff_map)\n",
    "        output = []\n",
    "        common_set = array_set.intersection(diff_set)\n",
    "        for i in common_set:\n",
    "            if targetsum - i != i:\n",
    "                output.append(i)\n",
    "            else:\n",
    "                output\n",
    "        return output"
   ]
  },
  {
   "cell_type": "code",
   "execution_count": 65,
   "metadata": {},
   "outputs": [
    {
     "data": {
      "text/plain": [
       "[11, -1]"
      ]
     },
     "execution_count": 65,
     "metadata": {},
     "output_type": "execute_result"
    }
   ],
   "source": [
    "twoNumberSum(arr1, targetsum)"
   ]
  },
  {
   "attachments": {},
   "cell_type": "markdown",
   "metadata": {},
   "source": [
    "**3. Best Time to Buy and Sell Stock - Leetcode**"
   ]
  },
  {
   "attachments": {},
   "cell_type": "markdown",
   "metadata": {},
   "source": [
    "**4. Move Zeroes - leetcode**"
   ]
  },
  {
   "cell_type": "markdown",
   "metadata": {},
   "source": [
    "Given an integer array nums, move all 0's to the end of it while maintaining the relative order of the non-zero elements.\n",
    "\n",
    "Note that you must do this in-place without making a copy of the array."
   ]
  },
  {
   "cell_type": "code",
   "execution_count": 179,
   "metadata": {},
   "outputs": [],
   "source": [
    "nums = [0,1,0,3,12]\n",
    "output = [1,3,12,0,0]"
   ]
  },
  {
   "cell_type": "code",
   "execution_count": 187,
   "metadata": {},
   "outputs": [],
   "source": [
    "nums = [0]\n",
    "output = [0]"
   ]
  },
  {
   "cell_type": "code",
   "execution_count": 188,
   "metadata": {},
   "outputs": [],
   "source": [
    "class Solution:\n",
    "    def moveZeroes(self, nums: list[int]) -> None:\n",
    "        \"\"\"\n",
    "        Do not return anything, modify nums in-place instead.\n",
    "        \"\"\"\n",
    "        left = 0\n",
    "        right = 1\n",
    "        while right < len(nums):\n",
    "            if nums[left] == 0:\n",
    "                if nums[right] !=0:\n",
    "                    nums[left] = nums[right]\n",
    "                    nums[right] = 0\n",
    "                    left +=1\n",
    "                    right +=1\n",
    "                else:\n",
    "                    left = left\n",
    "                    right +=1\n",
    "            else:\n",
    "                left+=1\n",
    "                right+=1\n",
    "        "
   ]
  },
  {
   "cell_type": "code",
   "execution_count": 189,
   "metadata": {},
   "outputs": [],
   "source": [
    "s= Solution()"
   ]
  },
  {
   "cell_type": "code",
   "execution_count": 190,
   "metadata": {},
   "outputs": [],
   "source": [
    "s.moveZeroes(nums)"
   ]
  },
  {
   "cell_type": "code",
   "execution_count": 191,
   "metadata": {},
   "outputs": [
    {
     "data": {
      "text/plain": [
       "[0]"
      ]
     },
     "execution_count": 191,
     "metadata": {},
     "output_type": "execute_result"
    }
   ],
   "source": [
    "nums"
   ]
  },
  {
   "attachments": {},
   "cell_type": "markdown",
   "metadata": {},
   "source": [
    "**5. Validate Subsequence - Algoexpert**"
   ]
  },
  {
   "cell_type": "code",
   "execution_count": 257,
   "metadata": {},
   "outputs": [],
   "source": [
    "array = [5,1,22,25,6,-1,8,10]\n",
    "sequence = [6,1,-1,10]"
   ]
  },
  {
   "cell_type": "code",
   "execution_count": 193,
   "metadata": {},
   "outputs": [],
   "source": [
    "output = True"
   ]
  },
  {
   "cell_type": "code",
   "execution_count": null,
   "metadata": {},
   "outputs": [],
   "source": [
    "def isValidSubsequence(array, sequence):\n",
    "    arr_len = len(array)\n",
    "    seq_len = len(sequence)\n",
    "    if arr_len == 1:\n",
    "        if sequence == array:\n",
    "            return True\n",
    "        else:\n",
    "            return False\n",
    "    elif arr_len == seq_len:\n",
    "        if array == sequence:\n",
    "            return True\n",
    "        else:\n",
    "            return False\n",
    "    elif arr_len < seq_len:\n",
    "        return False\n",
    "    else:\n",
    "        left = 0\n",
    "        right = seq_len\n",
    "        pos_arr = 0\n",
    "        pos_subseq = 0\n",
    "        for i in range(left, right):\n",
    "            if array[i] == sequence[right - i]:\n",
    "                pos_arr = i\n",
    "            left += 1\n",
    "            right = left + seq_len\n",
    "\n"
   ]
  },
  {
   "cell_type": "code",
   "execution_count": 258,
   "metadata": {},
   "outputs": [],
   "source": [
    "arr_len = len(array)\n",
    "seq_len = len(sequence)\n",
    "left = 0\n",
    "right = seq_len\n",
    "pos_arr = 0\n",
    "pos_subseq = 0\n",
    "count = 0\n",
    "while pos_subseq<seq_len and pos_arr < arr_len:\n",
    "    if array[pos_arr] == sequence[pos_subseq]:\n",
    "        pos_arr+=1\n",
    "        pos_subseq+=1\n",
    "        count+=1\n",
    "    else:\n",
    "        pos_arr+=1"
   ]
  },
  {
   "cell_type": "code",
   "execution_count": 259,
   "metadata": {},
   "outputs": [],
   "source": [
    "# left, right"
   ]
  },
  {
   "cell_type": "code",
   "execution_count": 260,
   "metadata": {},
   "outputs": [
    {
     "data": {
      "text/plain": [
       "1"
      ]
     },
     "execution_count": 260,
     "metadata": {},
     "output_type": "execute_result"
    }
   ],
   "source": [
    "count"
   ]
  },
  {
   "cell_type": "markdown",
   "metadata": {},
   "source": [
    "**6. Longest non-repeating subsequence**"
   ]
  },
  {
   "cell_type": "code",
   "execution_count": 1456,
   "metadata": {},
   "outputs": [],
   "source": [
    "# s = 'abcabcbb'\n",
    "# s = 'aab'\n",
    "# s = 'abba'\n",
    "# s = 'abcabcbb'\n",
    "# s = 'ckilbkd'\n",
    "# s = 'pwwkew'\n",
    "# s = 'aaaa'\n",
    "# s = 'dvdf'\n",
    "s = 'bcabc'"
   ]
  },
  {
   "cell_type": "code",
   "execution_count": 1457,
   "metadata": {},
   "outputs": [],
   "source": [
    "# s = 'anviaj'"
   ]
  },
  {
   "cell_type": "code",
   "execution_count": 1458,
   "metadata": {},
   "outputs": [],
   "source": [
    "# class Solution:\n",
    "#     def lengthOfLongestSubstring(self, s: str) -> int:\n",
    "#         substr = ''\n",
    "#         list_substr = []\n",
    "#         s_map = {}\n",
    "#         i = 0\n",
    "#         # j = 1\n",
    "#         count = 0\n",
    "#         longest_substr = ''\n",
    "#         len_longest_substr = 0\n",
    "#         if s == '':\n",
    "#             len_longest_substr = 0\n",
    "#         elif len(s) == 1:\n",
    "#             len_longest_substr = 1\n",
    "#         elif len(s) == 2:\n",
    "#             if s[1] == s[0]:\n",
    "#                 len_longest_substr = 1\n",
    "#             else:\n",
    "#                 len_longest_substr = 2\n",
    "#         else:\n",
    "#             while i < len(s):\n",
    "#                 if i == 0:\n",
    "#                     s_map[s[i]] = i\n",
    "#                     substr = s[i]\n",
    "#                     i+=1\n",
    "#                     list_substr.append(substr)\n",
    "#                 else:\n",
    "#                     if s[i] == s[i-1]:\n",
    "#                         substr = substr\n",
    "#                         # substr += s[i]\n",
    "#                         list_substr.append(substr)\n",
    "#                         substr = s[i-1]\n",
    "#                         i+=1\n",
    "#                     elif s[i] != s[i-1]:\n",
    "#                         if s[i] not in s_map.keys():\n",
    "#                             s_map[s[i]] = i\n",
    "#                             substr += s[i]\n",
    "#                             list_substr.append(substr)\n",
    "#                             i+=1\n",
    "#                         else:\n",
    "#                             j = s_map[s[i]]\n",
    "#                             s_map[s[i]] = i\n",
    "#                             i = j\n",
    "#                             i+=1\n",
    "#                             substr = s[i-1:]\n",
    "#                             # print(substr)\n",
    "#                             list_substr.append(substr)\n",
    "#                         # list_substr.append(substr)\n",
    "                        \n",
    "                    \n",
    "                \n",
    "#             len_longest_substr = max([len(i) for i in list_substr])\n",
    "#         return s_map,list_substr, len_longest_substr\n",
    "#         # return len_longest_substr\n",
    "\n",
    "    \n",
    "        "
   ]
  },
  {
   "cell_type": "code",
   "execution_count": 1459,
   "metadata": {},
   "outputs": [],
   "source": [
    "sol = Solution()"
   ]
  },
  {
   "cell_type": "code",
   "execution_count": 1460,
   "metadata": {},
   "outputs": [
    {
     "data": {
      "text/plain": [
       "({'b': 3, 'c': 4, 'a': 2},\n",
       " ['b', 'bc', 'bca', 'bcabc', 'cabc', 'abc', 'bc', 'cabc', 'abc', 'bc', 'c'],\n",
       " 5)"
      ]
     },
     "execution_count": 1460,
     "metadata": {},
     "output_type": "execute_result"
    }
   ],
   "source": [
    "sol.lengthOfLongestSubstring(s)"
   ]
  },
  {
   "cell_type": "code",
   "execution_count": 1465,
   "metadata": {},
   "outputs": [],
   "source": [
    "class Solution:\n",
    "    def lengthOfLongestSubstring(self, s: str) -> int:\n",
    "        substr = ''\n",
    "        list_substr = []\n",
    "        s_map = {}\n",
    "        i = 0\n",
    "        # j = 1\n",
    "        count = 0\n",
    "        longest_substr = ''\n",
    "        len_longest_substr = 0\n",
    "        if s == '':\n",
    "            len_longest_substr = 0\n",
    "        elif len(s) == 1:\n",
    "            len_longest_substr = 1\n",
    "        elif len(s) == 2:\n",
    "            if s[1] == s[0]:\n",
    "                len_longest_substr = 1\n",
    "            else:\n",
    "                len_longest_substr = 2\n",
    "        else:\n",
    "            i = 0\n",
    "            j = i+1\n",
    "            len_longest_substr = 1\n",
    "            while i < len(s)-1 and j < len(s):\n",
    "                if i == 0:\n",
    "                    s_map[s[i]] = i\n",
    "                else:\n",
    "                    if s[j] not in s_map.keys():\n",
    "                        s_map[s[i]] = j\n",
    "                        current_substr = len(s[i:j+1])\n",
    "                        len_longest_substr = max(len_longest_substr, current_substr)\n",
    "                        i=i\n",
    "                        j+=1\n",
    "                    else:\n",
    "                        i = s_map[s[i]]+1\n",
    "                        j = i+1\n",
    "                        if j == len(s) -1:\n",
    "                            break\n",
    "                    \n",
    "        return len_longest_substr\n",
    "\n",
    "    \n",
    "        "
   ]
  },
  {
   "cell_type": "code",
   "execution_count": 1466,
   "metadata": {},
   "outputs": [],
   "source": [
    "sol = Solution()"
   ]
  },
  {
   "cell_type": "code",
   "execution_count": 1461,
   "metadata": {},
   "outputs": [
    {
     "data": {
      "text/plain": [
       "'ab'"
      ]
     },
     "execution_count": 1461,
     "metadata": {},
     "output_type": "execute_result"
    }
   ],
   "source": [
    "s = 'abc'\n",
    "s[0:2]"
   ]
  },
  {
   "cell_type": "markdown",
   "metadata": {},
   "source": [
    "**Best Time to Buy and Sell Stock**"
   ]
  },
  {
   "cell_type": "code",
   "execution_count": 29,
   "metadata": {},
   "outputs": [],
   "source": [
    "class Solution:\n",
    "    def maxProfit(self, prices: list[int]) -> int:\n",
    "        b = 0\n",
    "        s = b + 1\n",
    "        max_profit = 0\n",
    "        if len(prices) == 0 or len(prices) == 1:\n",
    "            return 0\n",
    "        else:\n",
    "            while s < len(prices):\n",
    "                # if s == 1:\n",
    "                #     profit = prices[s] - prices[b]\n",
    "                #     max_profit = max(max_profit, profit)\n",
    "                profit = prices[s] - prices[b]\n",
    "                if prices[s] > prices[b]:   \n",
    "                    max_profit = max(profit, max_profit)\n",
    "                else:\n",
    "                    b = s\n",
    "                s+=1\n",
    "        return max_profit\n"
   ]
  },
  {
   "cell_type": "code",
   "execution_count": 30,
   "metadata": {},
   "outputs": [],
   "source": [
    "s = Solution()"
   ]
  },
  {
   "cell_type": "code",
   "execution_count": 33,
   "metadata": {},
   "outputs": [],
   "source": [
    "# prices = [7,1,5,3,6,4]\n",
    "prices = [7,6,4,3,1]\n",
    "# prices = [1,4,2]"
   ]
  },
  {
   "cell_type": "code",
   "execution_count": 34,
   "metadata": {},
   "outputs": [
    {
     "data": {
      "text/plain": [
       "0"
      ]
     },
     "execution_count": 34,
     "metadata": {},
     "output_type": "execute_result"
    }
   ],
   "source": [
    "s.maxProfit(prices)"
   ]
  },
  {
   "cell_type": "markdown",
   "metadata": {},
   "source": [
    "**Contains Duplicate**"
   ]
  },
  {
   "cell_type": "code",
   "execution_count": 1637,
   "metadata": {},
   "outputs": [],
   "source": [
    "class Solution:\n",
    "    def containsDuplicate(self, nums: list[int]) -> bool:\n",
    "        left = 0\n",
    "        right = 1\n",
    "        if len(nums)==0 or len(nums) == 1:\n",
    "            return False\n",
    "        else:\n",
    "            while right < len(nums):\n",
    "                if nums[left] == nums[right]:\n",
    "                    return True\n",
    "                    break\n",
    "                else:\n",
    "                    if right == len(nums) - 1:\n",
    "                        if nums[left] == nums[right]:\n",
    "                            return True\n",
    "                            break\n",
    "                        else:\n",
    "                            return False\n",
    "                            left+=1\n",
    "                            right = left\n",
    "                right+=1"
   ]
  },
  {
   "cell_type": "code",
   "execution_count": 1692,
   "metadata": {},
   "outputs": [],
   "source": [
    "# nums = [1,2,3,2]\n",
    "nums = [2,14,18,22,22]\n",
    "output = True"
   ]
  },
  {
   "cell_type": "code",
   "execution_count": 1693,
   "metadata": {},
   "outputs": [],
   "source": [
    "class Solution:\n",
    "    def containsDuplicate(self, nums: list[int]) -> bool:\n",
    "        i_dict = {}\n",
    "        for i in range(len(nums)):\n",
    "            i_dict[nums[i]] = i_dict.get(nums[i],0)\n",
    "            i_dict[nums[i]] += 1\n",
    "        for k, v in i_dict.items():\n",
    "            # print(k,v)\n",
    "            if v > 1:\n",
    "                ans = True\n",
    "                break\n",
    "            else:\n",
    "                ans = False\n",
    "        return ans"
   ]
  },
  {
   "cell_type": "code",
   "execution_count": 1694,
   "metadata": {},
   "outputs": [],
   "source": [
    "s = Solution()"
   ]
  },
  {
   "cell_type": "code",
   "execution_count": 1695,
   "metadata": {},
   "outputs": [
    {
     "data": {
      "text/plain": [
       "True"
      ]
     },
     "execution_count": 1695,
     "metadata": {},
     "output_type": "execute_result"
    }
   ],
   "source": [
    "s.containsDuplicate(nums)"
   ]
  },
  {
   "cell_type": "markdown",
   "metadata": {},
   "source": [
    "**Intersection of Two Arrays II**"
   ]
  },
  {
   "cell_type": "code",
   "execution_count": 21,
   "metadata": {},
   "outputs": [],
   "source": [
    "# nums1 = [1,2,2,1]\n",
    "# nums2 = [2,2]\n",
    "nums1 = [4,9,5]\n",
    "nums2 = [9,4,9,8,4]"
   ]
  },
  {
   "cell_type": "code",
   "execution_count": 26,
   "metadata": {},
   "outputs": [],
   "source": [
    "class Solution:\n",
    "    def intersect(self, nums1: list[int], nums2: list[int]) -> list[int]:\n",
    "        map_l = {}\n",
    "        map_s = {}\n",
    "        common = []\n",
    "        if len(nums1) > len(nums2):\n",
    "            for i, v in enumerate(nums1):\n",
    "                map_l[v] = map_l.get(v, 0) + 1\n",
    "            for i, v in enumerate(nums2):\n",
    "                map_s[v] = map_s.get(v, 0) + 1\n",
    "        else:\n",
    "            for i, v in enumerate(nums2):\n",
    "                map_l[v] = map_l.get(v, 0) + 1\n",
    "            for i, v in enumerate(nums1):\n",
    "                map_s[v] = map_s.get(v, 0) + 1\n",
    "        \n",
    "        for k, v in map_s.items():\n",
    "            if map_l.get(k):\n",
    "                common+= [k] * min(v, map_l.get(k))\n",
    "            else:\n",
    "                continue\n",
    "\n",
    "        return common"
   ]
  },
  {
   "cell_type": "code",
   "execution_count": 27,
   "metadata": {},
   "outputs": [],
   "source": [
    "s = Solution()"
   ]
  },
  {
   "cell_type": "code",
   "execution_count": 28,
   "metadata": {},
   "outputs": [
    {
     "data": {
      "text/plain": [
       "[4, 9]"
      ]
     },
     "execution_count": 28,
     "metadata": {},
     "output_type": "execute_result"
    }
   ],
   "source": [
    "s.intersect(nums1, nums2)"
   ]
  },
  {
   "cell_type": "markdown",
   "metadata": {},
   "source": [
    "**Plus one**"
   ]
  },
  {
   "cell_type": "code",
   "execution_count": 68,
   "metadata": {},
   "outputs": [],
   "source": [
    "# digits = [1,2,3]\n",
    "# digits = [4,3,2,1]\n",
    "digits = [9]"
   ]
  },
  {
   "cell_type": "code",
   "execution_count": 69,
   "metadata": {},
   "outputs": [],
   "source": [
    "class Solution:\n",
    "    def plusOne(self, digits: list[int]) -> list[int]:\n",
    "    #Increment the largest digit by one and return the resulting array of digits\n",
    "    ###Note: largest integer doesnt contain any leading 0's\n",
    "        joined_num = int(''.join([str(i) for i in digits]))\n",
    "        plusone_num = joined_num + 1\n",
    "        result_arr = [int(i) for i in str(plusone_num)]\n",
    "        return result_arr"
   ]
  },
  {
   "cell_type": "code",
   "execution_count": 70,
   "metadata": {},
   "outputs": [],
   "source": [
    "s= Solution()"
   ]
  },
  {
   "cell_type": "code",
   "execution_count": 71,
   "metadata": {},
   "outputs": [
    {
     "data": {
      "text/plain": [
       "[1, 0]"
      ]
     },
     "execution_count": 71,
     "metadata": {},
     "output_type": "execute_result"
    }
   ],
   "source": [
    "s.plusOne(digits)"
   ]
  },
  {
   "cell_type": "markdown",
   "metadata": {},
   "source": [
    "**Valid Anagram**"
   ]
  },
  {
   "cell_type": "code",
   "execution_count": 77,
   "metadata": {},
   "outputs": [],
   "source": [
    "s = 'anagram'\n",
    "t = 'nagaram'\n",
    "\n",
    "# s = 'rat'\n",
    "# t = 'car'"
   ]
  },
  {
   "cell_type": "code",
   "execution_count": 78,
   "metadata": {},
   "outputs": [],
   "source": [
    "class Solution:\n",
    "    def isAnagram(self, s: str, t: str) -> bool:\n",
    "        s_map = {}\n",
    "        t_map = {}\n",
    "        if len(s) != len(t):\n",
    "            return False\n",
    "        else:\n",
    "            for val in s:\n",
    "                s_map[val] = s_map.get(val, 0) + 1\n",
    "            for val in t:\n",
    "                t_map[val] = t_map.get(val, 0) + 1\n",
    "            count = 0\n",
    "            for k, v in s_map.items():\n",
    "                if t_map.get(k) == v:\n",
    "                    count+=v\n",
    "                else:\n",
    "                    pass\n",
    "            if count == len(s):\n",
    "                return True\n",
    "            else:\n",
    "                return False"
   ]
  },
  {
   "cell_type": "code",
   "execution_count": 79,
   "metadata": {},
   "outputs": [],
   "source": [
    "def isAnagram(s:str, t:str) -> bool:\n",
    "    s_map = {}\n",
    "    t_map = {}\n",
    "    if len(s) != len(t):\n",
    "        return False\n",
    "    else:\n",
    "        for val in s:\n",
    "            s_map[val] = s_map.get(val, 0) + 1\n",
    "        for val in t:\n",
    "            t_map[val] = t_map.get(val, 0) + 1\n",
    "        count = 0\n",
    "        for k, v in s_map.items():\n",
    "            if t_map.get(k) == v:\n",
    "                count+=v\n",
    "            else:\n",
    "                pass\n",
    "        if count == len(s):\n",
    "            return True\n",
    "        else:\n",
    "            return False"
   ]
  },
  {
   "cell_type": "code",
   "execution_count": 80,
   "metadata": {},
   "outputs": [
    {
     "data": {
      "text/plain": [
       "True"
      ]
     },
     "execution_count": 80,
     "metadata": {},
     "output_type": "execute_result"
    }
   ],
   "source": [
    "isAnagram(s, t)"
   ]
  },
  {
   "cell_type": "markdown",
   "metadata": {},
   "source": [
    "Followup: what is the inputs contain unicode characters?"
   ]
  },
  {
   "cell_type": "markdown",
   "metadata": {},
   "source": [
    "**Valid Parantheses**"
   ]
  },
  {
   "cell_type": "code",
   "execution_count": 109,
   "metadata": {},
   "outputs": [],
   "source": [
    "input = '()'\n",
    "output = True\n",
    "\n",
    "input = '()[]{}'\n",
    "output = True\n",
    "\n",
    "# input = '([])({}'\n",
    "# output = False\n",
    "\n",
    "# input = '(]'\n",
    "# output = False\n",
    "\n",
    "input = \"([)]\"\n",
    "output = False"
   ]
  },
  {
   "cell_type": "code",
   "execution_count": 110,
   "metadata": {},
   "outputs": [],
   "source": [
    "# class Solution:\n",
    "#     def isValid(self, s: str) -> bool:\n",
    "#         return"
   ]
  },
  {
   "cell_type": "code",
   "execution_count": 114,
   "metadata": {},
   "outputs": [],
   "source": [
    "def isValid(s:str) -> bool:\n",
    "    ##Given a string s containing just the characters '(', ')', '{', '}', '[' and ']'\n",
    "    ##An input string is valid if:\n",
    "    # Open brackets must be closed by the same type of brackets.\n",
    "    # Open brackets must be closed in the correct order.\n",
    "    # Every close bracket has a corresponding open bracket of the same type.\n",
    "    char_list = ['(',')','{','}','[',']']\n",
    "    open_list = ['(','[','{']\n",
    "    close_list = [')',']','}']\n",
    "    left = 0\n",
    "    right = left+1\n",
    "    char_map = {}\n",
    "\n",
    "    "
   ]
  },
  {
   "cell_type": "code",
   "execution_count": 115,
   "metadata": {},
   "outputs": [
    {
     "data": {
      "text/plain": [
       "True"
      ]
     },
     "execution_count": 115,
     "metadata": {},
     "output_type": "execute_result"
    }
   ],
   "source": [
    "isValid(input)"
   ]
  },
  {
   "cell_type": "markdown",
   "metadata": {},
   "source": [
    "**Leetcode (Easy) Decode Run-length encoded list**"
   ]
  },
  {
   "cell_type": "code",
   "execution_count": 9,
   "metadata": {},
   "outputs": [],
   "source": [
    "nums = [1,2,3,4]\n",
    "output = [2,4,4,4]\n",
    "\n",
    "nums = [1,1,2,3]\n",
    "output = [1,3,3]"
   ]
  },
  {
   "cell_type": "code",
   "execution_count": 10,
   "metadata": {},
   "outputs": [],
   "source": [
    "def decompressRLElist(nums):\n",
    "    output_list = []\n",
    "    i = 0\n",
    "    while(i < len(nums)-1):\n",
    "        curr_list = [nums[i+1]]*nums[i]\n",
    "        output_list+=curr_list\n",
    "        i+=2\n",
    "    return output_list"
   ]
  },
  {
   "cell_type": "code",
   "execution_count": 11,
   "metadata": {},
   "outputs": [
    {
     "data": {
      "text/plain": [
       "[1, 3, 3]"
      ]
     },
     "execution_count": 11,
     "metadata": {},
     "output_type": "execute_result"
    }
   ],
   "source": [
    "decompressRLElist(nums)"
   ]
  },
  {
   "cell_type": "markdown",
   "metadata": {},
   "source": [
    "**Leetcode (Medium) - Maximum Subarray**"
   ]
  },
  {
   "cell_type": "code",
   "execution_count": 41,
   "metadata": {},
   "outputs": [],
   "source": [
    "nums = [-2,1,-3,4,-1,2,1,-5,4]\n",
    "output = 6\n",
    "\n",
    "# nums= [1]\n",
    "# output = 1\n",
    "nums = [-7,-2]\n",
    "output = -1"
   ]
  },
  {
   "cell_type": "code",
   "execution_count": 45,
   "metadata": {},
   "outputs": [],
   "source": [
    "def maxSubArray(nums):\n",
    "    max_sum = -math.inf\n",
    "    prev_sum = 0\n",
    "    if len(nums) == 1:\n",
    "        max_sum = nums[0]\n",
    "    else:\n",
    "        for i in range(len(nums)):\n",
    "            prev_sum += nums[i]\n",
    "            max_sum = max(max_sum, prev_sum)\n",
    "            if prev_sum < 0:\n",
    "                prev_sum = 0\n",
    "    return max_sum"
   ]
  },
  {
   "cell_type": "code",
   "execution_count": 46,
   "metadata": {},
   "outputs": [
    {
     "data": {
      "text/plain": [
       "-2"
      ]
     },
     "execution_count": 46,
     "metadata": {},
     "output_type": "execute_result"
    }
   ],
   "source": [
    "maxSubArray(nums)"
   ]
  },
  {
   "cell_type": "markdown",
   "metadata": {},
   "source": [
    "**Algoexpert - Non-constructible change**"
   ]
  },
  {
   "cell_type": "code",
   "execution_count": null,
   "metadata": {},
   "outputs": [],
   "source": [
    "def nonConstructibleChange(coins):\n",
    "    # Write your code here.\n",
    "    return 1\n"
   ]
  }
 ],
 "metadata": {
  "kernelspec": {
   "display_name": "Python 3",
   "language": "python",
   "name": "python3"
  },
  "language_info": {
   "codemirror_mode": {
    "name": "ipython",
    "version": 3
   },
   "file_extension": ".py",
   "mimetype": "text/x-python",
   "name": "python",
   "nbconvert_exporter": "python",
   "pygments_lexer": "ipython3",
   "version": "3.10.6"
  },
  "orig_nbformat": 4
 },
 "nbformat": 4,
 "nbformat_minor": 2
}
